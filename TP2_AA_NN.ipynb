{
  "nbformat": 4,
  "nbformat_minor": 0,
  "metadata": {
    "colab": {
      "name": "TP2 AA - NN",
      "provenance": [],
      "collapsed_sections": [],
      "toc_visible": true,
      "include_colab_link": true
    },
    "kernelspec": {
      "name": "python3",
      "display_name": "Python 3"
    }
  },
  "cells": [
    {
      "cell_type": "markdown",
      "metadata": {
        "id": "view-in-github",
        "colab_type": "text"
      },
      "source": [
        "<a href=\"https://colab.research.google.com/github/Bati-bot/TPAA2/blob/master/TP2_AA_NN.ipynb\" target=\"_parent\"><img src=\"https://colab.research.google.com/assets/colab-badge.svg\" alt=\"Open In Colab\"/></a>"
      ]
    },
    {
      "cell_type": "code",
      "metadata": {
        "id": "hBqAn9_GGvIm",
        "colab_type": "code",
        "colab": {
          "base_uri": "https://localhost:8080/",
          "height": 225
        },
        "outputId": "c7b2adf7-04d0-487a-a30d-b39bc7930e18"
      },
      "source": [
        "#Descargamos los datos\n",
        "!wget http://download.tensorflow.org/data/speech_commands_v0.01.tar.gz\n",
        "!mkdir speechcommands\n",
        "!tar -xf speech_commands_v0.01.tar.gz -C /content/speechcommands"
      ],
      "execution_count": 3,
      "outputs": [
        {
          "output_type": "stream",
          "text": [
            "--2020-07-12 17:11:12--  http://download.tensorflow.org/data/speech_commands_v0.01.tar.gz\n",
            "Resolving download.tensorflow.org (download.tensorflow.org)... 108.177.126.128, 2a00:1450:4013:c01::80\n",
            "Connecting to download.tensorflow.org (download.tensorflow.org)|108.177.126.128|:80... connected.\n",
            "HTTP request sent, awaiting response... 200 OK\n",
            "Length: 1489096277 (1.4G) [application/gzip]\n",
            "Saving to: ‘speech_commands_v0.01.tar.gz.1’\n",
            "\n",
            "speech_commands_v0. 100%[===================>]   1.39G   190MB/s    in 7.8s    \n",
            "\n",
            "2020-07-12 17:11:20 (182 MB/s) - ‘speech_commands_v0.01.tar.gz.1’ saved [1489096277/1489096277]\n",
            "\n",
            "mkdir: cannot create directory ‘speechcommands’: File exists\n"
          ],
          "name": "stdout"
        }
      ]
    },
    {
      "cell_type": "code",
      "metadata": {
        "id": "Fs0wsxZAGzd8",
        "colab_type": "code",
        "colab": {}
      },
      "source": [
        "#Importamos librerías\n",
        "import librosa\n",
        "import glob\n",
        "import numpy as np\n",
        "import pandas as pd\n",
        "import scipy.stats as st\n",
        "import seaborn as sns\n",
        "\n",
        "\n",
        "import matplotlib.pyplot as plt\n",
        "from IPython.display import Audio\n",
        "from librosa.display import specshow\n",
        "\n",
        "from sklearn.ensemble import RandomForestClassifier, GradientBoostingClassifier \n",
        "from sklearn.feature_extraction.text import CountVectorizer, TfidfVectorizer\n",
        "from sklearn.model_selection import train_test_split, RandomizedSearchCV, PredefinedSplit\n",
        "from sklearn.naive_bayes import MultinomialNB, GaussianNB\n",
        "from sklearn.metrics import classification_report, accuracy_score, confusion_matrix\n",
        "from keras.wrappers.scikit_learn import KerasClassifier"
      ],
      "execution_count": 4,
      "outputs": []
    },
    {
      "cell_type": "code",
      "metadata": {
        "id": "zB4THGEjo8zY",
        "colab_type": "code",
        "colab": {}
      },
      "source": [
        "#Lo cargamos una vez generado\n",
        "df = pd.read_csv('numbers.csv')\n",
        "df.drop(columns='Unnamed: 0', inplace=True)\n",
        "df['target'] = df['target'].str.split('\\\\', expand=True)[0]"
      ],
      "execution_count": 5,
      "outputs": []
    },
    {
      "cell_type": "code",
      "metadata": {
        "id": "_9pm7RJLJRG0",
        "colab_type": "code",
        "colab": {}
      },
      "source": [
        "#Importamos los listados de validation y test\n",
        "testing_list = pd.read_csv('speechcommands/testing_list.txt', sep=' ', \n",
        "                           names=['file_test'])\n",
        "validation_list = pd.read_csv('speechcommands/validation_list.txt', sep=' ', \n",
        "                              names=['file_val'])"
      ],
      "execution_count": 6,
      "outputs": []
    },
    {
      "cell_type": "code",
      "metadata": {
        "id": "ut4PkXLpohJQ",
        "colab_type": "code",
        "colab": {}
      },
      "source": [
        "# Cambiamos el formato para que quede igual que en el df\n",
        "testing_list['file_test'] = testing_list['file_test'].str.replace('/', '\\\\')\n",
        "validation_list['file_val'] = validation_list['file_val'].str.replace('/', '\\\\')"
      ],
      "execution_count": 7,
      "outputs": []
    },
    {
      "cell_type": "code",
      "metadata": {
        "id": "4bYlgDlDS-uw",
        "colab_type": "code",
        "colab": {}
      },
      "source": [
        "#Creamos una columna con el set. Ponemos 'train' por default\n",
        "df['set'] = 'train'"
      ],
      "execution_count": 8,
      "outputs": []
    },
    {
      "cell_type": "code",
      "metadata": {
        "id": "4uUqHYpJTPcd",
        "colab_type": "code",
        "colab": {
          "base_uri": "https://localhost:8080/",
          "height": 124
        },
        "outputId": "c74072d8-f6f8-4688-8ebf-8f2345d21f76"
      },
      "source": [
        "#Hacemos un merge para identificar los registros de test\n",
        "df = df.merge(testing_list, left_on='file', right_on='file_test', how='left', suffixes=('', '_y'))\n",
        "df['set'][df['file_test'].notna()] = 'test'\n",
        "df.drop(columns='file_test', inplace=True)"
      ],
      "execution_count": 9,
      "outputs": [
        {
          "output_type": "stream",
          "text": [
            "/usr/local/lib/python3.6/dist-packages/ipykernel_launcher.py:3: SettingWithCopyWarning: \n",
            "A value is trying to be set on a copy of a slice from a DataFrame\n",
            "\n",
            "See the caveats in the documentation: https://pandas.pydata.org/pandas-docs/stable/user_guide/indexing.html#returning-a-view-versus-a-copy\n",
            "  This is separate from the ipykernel package so we can avoid doing imports until\n"
          ],
          "name": "stderr"
        }
      ]
    },
    {
      "cell_type": "code",
      "metadata": {
        "id": "rrEVvxMmUxGb",
        "colab_type": "code",
        "colab": {
          "base_uri": "https://localhost:8080/",
          "height": 124
        },
        "outputId": "58db1e3b-7a6d-493a-e4e6-5d04fe96d947"
      },
      "source": [
        "#Idem para registros de validación\n",
        "df = df.merge(validation_list, left_on='file', right_on='file_val', how='left', suffixes=('', '_y'))\n",
        "df['set'][df['file_val'].notna()] = 'validation'\n",
        "df.drop(columns='file_val', inplace=True)"
      ],
      "execution_count": 10,
      "outputs": [
        {
          "output_type": "stream",
          "text": [
            "/usr/local/lib/python3.6/dist-packages/ipykernel_launcher.py:3: SettingWithCopyWarning: \n",
            "A value is trying to be set on a copy of a slice from a DataFrame\n",
            "\n",
            "See the caveats in the documentation: https://pandas.pydata.org/pandas-docs/stable/user_guide/indexing.html#returning-a-view-versus-a-copy\n",
            "  This is separate from the ipykernel package so we can avoid doing imports until\n"
          ],
          "name": "stderr"
        }
      ]
    },
    {
      "cell_type": "code",
      "metadata": {
        "id": "jVaCiPSaVLan",
        "colab_type": "code",
        "colab": {}
      },
      "source": [
        "#Separamos los datasets\n",
        "train = df[df['set']=='train']\n",
        "validation = df[df['set']=='validation']\n",
        "test = df[df['set']=='test']"
      ],
      "execution_count": 11,
      "outputs": []
    },
    {
      "cell_type": "code",
      "metadata": {
        "id": "V-XmLTYzSN7l",
        "colab_type": "code",
        "colab": {}
      },
      "source": [
        "train = df[df['set']!='test']\n",
        "test = df[df['set']=='test']"
      ],
      "execution_count": 12,
      "outputs": []
    },
    {
      "cell_type": "code",
      "metadata": {
        "id": "qY02PwXJSOYU",
        "colab_type": "code",
        "colab": {}
      },
      "source": [
        "my_test_fold = np.where(train['set']=='validation', 0,-1)\n",
        "ps = PredefinedSplit(test_fold=my_test_fold)"
      ],
      "execution_count": 13,
      "outputs": []
    },
    {
      "cell_type": "code",
      "metadata": {
        "id": "a0wF7DHOSOdw",
        "colab_type": "code",
        "colab": {}
      },
      "source": [
        "X_train = train.drop(columns=['set', 'file', 'target'])\n",
        "y_train = train['target']\n",
        "X_test = test.drop(columns=['set', 'file', 'target'])\n",
        "y_test = test['target']"
      ],
      "execution_count": 14,
      "outputs": []
    },
    {
      "cell_type": "markdown",
      "metadata": {
        "colab_type": "text",
        "id": "7R1o5q-oxHSc"
      },
      "source": [
        "### Opcional (da puntos extra): implementar un modelo de perceptrón multicapa. Elegir el número de neuronas de la capa oculta utilizando random search. Comparar su rendimiento con los demás modelos desarrollados en c)\n",
        "\n"
      ]
    },
    {
      "cell_type": "code",
      "metadata": {
        "id": "mXrseB9IQvY8",
        "colab_type": "code",
        "colab": {}
      },
      "source": [
        "# Imports\n",
        "import keras\n",
        "from keras.utils import to_categorical\n",
        "from keras.wrappers.scikit_learn import KerasClassifier\n",
        "from keras.layers import Dense, Input    #for Dense layers\n",
        "from keras.layers import BatchNormalization #for batch normalization\n",
        "from keras.layers import Dropout            #for random dropout\n",
        "from keras.models import Sequential #for sequential implementation\n",
        "from keras.optimizers import Adam   #for adam optimizer\n",
        "from keras import regularizers "
      ],
      "execution_count": 15,
      "outputs": []
    },
    {
      "cell_type": "code",
      "metadata": {
        "id": "tkVEtbeSzsBN",
        "colab_type": "code",
        "colab": {}
      },
      "source": [
        "import tensorflow as tf\n",
        "import tensorflow.keras.layers as tfkl"
      ],
      "execution_count": 16,
      "outputs": []
    },
    {
      "cell_type": "code",
      "metadata": {
        "id": "tVwAwlAQmP3v",
        "colab_type": "code",
        "colab": {}
      },
      "source": [
        "# Preparamos el formato del output para una NN\n",
        "y_train_MLP = y_train.copy()\n",
        "y_test_MLP = y_test.copy()\n",
        "y_train_MLP.replace({'zero':0, 'one':1, 'two':2 ,'three':3 ,'four':4 ,\n",
        "                     'five':5, 'six': 6,'seven':7 ,'eight':8,'nine':9}, \n",
        "                    inplace=True)\n",
        "y_test_MLP.replace({'zero':0, 'one':1, 'two':2 ,'three':3 ,'four':4 ,\n",
        "                     'five':5, 'six': 6,'seven':7 ,'eight':8,'nine':9}, \n",
        "                    inplace=True)"
      ],
      "execution_count": 17,
      "outputs": []
    },
    {
      "cell_type": "code",
      "metadata": {
        "id": "ibxOScTTRAfF",
        "colab_type": "code",
        "colab": {}
      },
      "source": [
        "# Convertimos target a categorica\n",
        "num_classes = 10\n",
        "y_train_MLP = to_categorical(y_train_MLP, num_classes)\n",
        "y_test_MLP = to_categorical(y_test_MLP, num_classes)"
      ],
      "execution_count": 18,
      "outputs": []
    },
    {
      "cell_type": "code",
      "metadata": {
        "id": "GsS3SSkFoWx6",
        "colab_type": "code",
        "colab": {}
      },
      "source": [
        "# Covertimos X a numpy array\n",
        "X_train_MLP = X_train.to_numpy()\n",
        "X_test_MLP = X_test.to_numpy()"
      ],
      "execution_count": 19,
      "outputs": []
    },
    {
      "cell_type": "code",
      "metadata": {
        "id": "kWknVclSmDq8",
        "colab_type": "code",
        "colab": {}
      },
      "source": [
        "  # Create the model\n",
        "def create_model():\n",
        "    input_shape = X_train_MLP[0].shape\n",
        "\n",
        "    model = Sequential()\n",
        "    model.add(Dense(350, input_shape=input_shape, activation='relu'))\n",
        "\n",
        "    #model.add(Dense(num_classes, activation='softmax'))\n",
        "    model.compile(loss='categorical_crossentropy', optimizer='adam', metrics=['accuracy'])\n",
        "    return model"
      ],
      "execution_count": 20,
      "outputs": []
    },
    {
      "cell_type": "code",
      "metadata": {
        "id": "xzZ756Qs14dU",
        "colab_type": "code",
        "colab": {}
      },
      "source": [
        "# Creamos el modelo\n",
        "def create_model():\n",
        "    layer_in = tfkl.Input(shape=X_train_MLP[0].shape) #Todo modelo necesita una entrada, y debemos especificar sus dimensiones\n",
        "    #Esta capa rompe la estructura de imagen y nos deja un vector (1x784)\n",
        "    flatten_layer = tfkl.Flatten()(layer_in)\n",
        "    #Esta es la capa de salida\n",
        "    hidden_layer = tfkl.Dense(units=128, activation='relu')(flatten_layer)\n",
        "    #Esta es la capa de salida:\n",
        "    output_layer = tfkl.Dense(units=10,activation='softmax')(hidden_layer) \n",
        "\n",
        "    # Definimos optimizador y metricas\n",
        "    optimizer = tf.keras.optimizers.Adam(learning_rate=0.001)\n",
        "\n",
        "    # Compilamos el modelo\n",
        "    model = tf.keras.Model(inputs=[layer_in],outputs=[output_layer])\n",
        "    model.compile(optimizer=optimizer,loss='categorical_crossentropy',\n",
        "                      metrics=['accuracy'])\n",
        "    \n",
        "    return model"
      ],
      "execution_count": 21,
      "outputs": []
    },
    {
      "cell_type": "code",
      "metadata": {
        "id": "Psi-DfdIpmVK",
        "colab_type": "code",
        "colab": {}
      },
      "source": [
        "# Lo metemos en un objeto KerasClassifier para poder usar RandomizedSearchCV de\n",
        "# Sklearn\n",
        "model_keras = KerasClassifier(build_fn=create_model, verbose=1)"
      ],
      "execution_count": 22,
      "outputs": []
    },
    {
      "cell_type": "code",
      "metadata": {
        "id": "QHdheBRV08D1",
        "colab_type": "code",
        "colab": {
          "base_uri": "https://localhost:8080/",
          "height": 295
        },
        "outputId": "d647c170-bb4e-4615-8105-fb07fef878b2"
      },
      "source": [
        "# Vemos el resumen\n",
        "model = create_model()\n",
        "model.summary()"
      ],
      "execution_count": 23,
      "outputs": [
        {
          "output_type": "stream",
          "text": [
            "Model: \"model\"\n",
            "_________________________________________________________________\n",
            "Layer (type)                 Output Shape              Param #   \n",
            "=================================================================\n",
            "input_1 (InputLayer)         [(None, 78)]              0         \n",
            "_________________________________________________________________\n",
            "flatten (Flatten)            (None, 78)                0         \n",
            "_________________________________________________________________\n",
            "dense (Dense)                (None, 128)               10112     \n",
            "_________________________________________________________________\n",
            "dense_1 (Dense)              (None, 10)                1290      \n",
            "=================================================================\n",
            "Total params: 11,402\n",
            "Trainable params: 11,402\n",
            "Non-trainable params: 0\n",
            "_________________________________________________________________\n"
          ],
          "name": "stdout"
        }
      ]
    },
    {
      "cell_type": "code",
      "metadata": {
        "id": "cT5RATVG0lLY",
        "colab_type": "code",
        "colab": {
          "base_uri": "https://localhost:8080/",
          "height": 422
        },
        "outputId": "2fe2ef33-7717-47e3-cde9-5252a0182895"
      },
      "source": [
        "# Lo ploteamos\n",
        "tf.keras.utils.plot_model(model,show_shapes=True)"
      ],
      "execution_count": 24,
      "outputs": [
        {
          "output_type": "execute_result",
          "data": {
            "image/png": "[encoded data removed]",
            "text/plain": [
              "<IPython.core.display.Image object>"
            ]
          },
          "metadata": {
            "tags": []
          },
          "execution_count": 24
        }
      ]
    },
    {
      "cell_type": "code",
      "metadata": {
        "id": "_XQd9LyTn0YI",
        "colab_type": "code",
        "colab": {}
      },
      "source": [
        "# Definimos espacio de hiperparametros\n",
        "params = {'epochs':range(10, 200, 10), \n",
        "            'batch_size':range(10, 100, 5)}"
      ],
      "execution_count": 25,
      "outputs": []
    },
    {
      "cell_type": "code",
      "metadata": {
        "colab_type": "code",
        "id": "vl_rYOtCn47W",
        "colab": {
          "base_uri": "https://localhost:8080/",
          "height": 243
        },
        "outputId": "352e43bd-472d-40ea-fe0b-d56af0a274c8"
      },
      "source": [
        "# Y hacemos una búsqueda sobre el mismo\n",
        "rs = RandomizedSearchCV(model_keras, params, n_iter = 20, verbose= 10, \n",
        "                          n_jobs=-1, cv=ps, random_state=42)\n",
        "print (rs)\n",
        "fit = rs.fit(X_train_MLP, y_train_MLP)"
      ],
      "execution_count": null,
      "outputs": [
        {
          "output_type": "stream",
          "text": [
            "RandomizedSearchCV(cv=PredefinedSplit(test_fold=array([-1, -1, ..., -1, -1])),\n",
            "                   error_score=nan,\n",
            "                   estimator=<keras.wrappers.scikit_learn.KerasClassifier object at 0x7f144aa9b6d8>,\n",
            "                   iid='deprecated', n_iter=20, n_jobs=-1,\n",
            "                   param_distributions={'batch_size': range(10, 100, 5),\n",
            "                                        'epochs': range(10, 200, 10)},\n",
            "                   pre_dispatch='2*n_jobs', random_state=42, refit=True,\n",
            "                   return_train_score=False, scoring=None, verbose=10)\n",
            "Fitting 1 folds for each of 20 candidates, totalling 20 fits\n"
          ],
          "name": "stdout"
        },
        {
          "output_type": "stream",
          "text": [
            "[Parallel(n_jobs=-1)]: Using backend LokyBackend with 2 concurrent workers.\n",
            "[Parallel(n_jobs=-1)]: Done   1 tasks      | elapsed:   39.8s\n",
            "[Parallel(n_jobs=-1)]: Done   4 tasks      | elapsed:  4.7min\n",
            "[Parallel(n_jobs=-1)]: Done   9 tasks      | elapsed:  8.4min\n"
          ],
          "name": "stderr"
        }
      ]
    },
    {
      "cell_type": "code",
      "metadata": {
        "colab_type": "code",
        "id": "HOYhWnfFx-xA",
        "colab": {}
      },
      "source": [
        "# Imprimimos los resultados\n",
        "best_model = fit.best_estimator_.model\n",
        "test_results = best_model.evaluate(X_test_MLP, y_test_MLP, verbose=1)\n",
        "print(f'Test results - Loss: {test_results[0]} - Accuracy: {test_results[1]}%')"
      ],
      "execution_count": null,
      "outputs": []
    },
    {
      "cell_type": "code",
      "metadata": {
        "id": "syfcvdhDyXGe",
        "colab_type": "code",
        "colab": {}
      },
      "source": [
        "# vemos los parametros\n",
        "fit.best_params_"
      ],
      "execution_count": null,
      "outputs": []
    },
    {
      "cell_type": "markdown",
      "metadata": {
        "id": "jYsV-pDK5Aal",
        "colab_type": "text"
      },
      "source": [
        "Conclusión: Obtenemos un resultado similar al mejor obtenido con GB con una red bastante simple, lo que indicaría que podrían mejorarse aún más estos resultados."
      ]
    },
    {
      "cell_type": "code",
      "metadata": {
        "id": "Lfh4YYY24mmH",
        "colab_type": "code",
        "colab": {}
      },
      "source": [
        ""
      ],
      "execution_count": null,
      "outputs": []
    }
  ]
}